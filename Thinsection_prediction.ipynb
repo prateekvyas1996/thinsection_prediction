{
 "cells": [
  {
   "cell_type": "markdown",
   "id": "fad5ff1f-fd7c-4177-906c-7949552db2c7",
   "metadata": {},
   "source": [
    "# Thinsection Prediction using fastai and PyTorch\n",
    "## Introduction"
   ]
  },
  {
   "cell_type": "code",
   "execution_count": 1,
   "id": "8c3c3278-3a27-4c67-a8d0-1e4278b6bb5f",
   "metadata": {},
   "outputs": [],
   "source": [
    "import numpy as np\n",
    "import pandas as pd\n",
    "import matplotlib.pyplot as plt\n",
    "from fastai import *"
   ]
  },
  {
   "cell_type": "code",
   "execution_count": 4,
   "id": "1824d4b4-390f-4ed8-8ff4-94023e5c5657",
   "metadata": {},
   "outputs": [],
   "source": [
    "from duckduckgo_search import ddg_images"
   ]
  },
  {
   "cell_type": "code",
   "execution_count": null,
   "id": "9d99e684-6a8b-461f-9bb6-db0f2e66ea15",
   "metadata": {},
   "outputs": [],
   "source": []
  }
 ],
 "metadata": {
  "kernelspec": {
   "display_name": "Python 3 (ipykernel)",
   "language": "python",
   "name": "python3"
  },
  "language_info": {
   "codemirror_mode": {
    "name": "ipython",
    "version": 3
   },
   "file_extension": ".py",
   "mimetype": "text/x-python",
   "name": "python",
   "nbconvert_exporter": "python",
   "pygments_lexer": "ipython3",
   "version": "3.10.12"
  }
 },
 "nbformat": 4,
 "nbformat_minor": 5
}
